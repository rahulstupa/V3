{
 "cells": [
  {
   "cell_type": "markdown",
   "id": "71f8a4f5",
   "metadata": {
    "heading_collapsed": true
   },
   "source": [
    "#### Add Frame Number"
   ]
  },
  {
   "cell_type": "code",
   "execution_count": null,
   "id": "71359827",
   "metadata": {
    "hidden": true
   },
   "outputs": [],
   "source": [
    "import os\n",
    "import cv2\n",
    "import sys\n",
    "# import matplotlib.pyplot as plt\n"
   ]
  },
  {
   "cell_type": "code",
   "execution_count": null,
   "id": "2b06af6d",
   "metadata": {
    "code_folding": [
     0
    ],
    "hidden": true
   },
   "outputs": [],
   "source": [
    "def add_frame_number(video_path):\n",
    "    cap = cv2.VideoCapture(video_path)\n",
    "    fps = cap.get(cv2.CAP_PROP_FPS)\n",
    "    print(fps)\n",
    "    width  = int(cap.get(cv2.CAP_PROP_FRAME_WIDTH))   # float `width`\n",
    "    height = int(cap.get(cv2.CAP_PROP_FRAME_HEIGHT))\n",
    "    \n",
    "#     video_writer = cv2.VideoWriter(video_path.replace(\"Better\",\"output\"), cv2.VideoWriter_fourcc(*'MP4V'), fps, (width,height))\n",
    "    video_writer = cv2.VideoWriter(\"./test_frame.mp4\", cv2.VideoWriter_fourcc(*'MP4V'), fps, (width,height))\n",
    "    c=0\n",
    "    font = cv2.FONT_HERSHEY_SIMPLEX\n",
    "    thickness=2\n",
    "    fontScale = 1\n",
    "    color = (255, 0, 0)\n",
    "    org = (600, 1070)\n",
    "    while(cap.isOpened()):\n",
    "        ret, frame = cap.read()\n",
    "        if ret == True:\n",
    "            frame = cv2.putText(frame,\"Frame Number:\"+ str(c), org, font, \n",
    "                   fontScale, color, thickness, cv2.LINE_AA)\n",
    "            video_writer.write(frame)\n",
    "            c+=1\n",
    "#             if c>10:\n",
    "#                 break\n",
    "        else: \n",
    "            break\n",
    "    cap.release()\n",
    "    video_writer.release()"
   ]
  },
  {
   "cell_type": "code",
   "execution_count": null,
   "id": "615f19a4",
   "metadata": {
    "hidden": true
   },
   "outputs": [],
   "source": [
    "video_path = \"/home/stupa/Desktop/DataAnnotation/Videos/Doha/Sharath Kamal AChanta vs Yuan Licen/set6/Sharath Kamal AChanta vs Yuan Licen set6.mp4\""
   ]
  },
  {
   "cell_type": "code",
   "execution_count": null,
   "id": "fcf50a8a",
   "metadata": {
    "hidden": true
   },
   "outputs": [],
   "source": [
    "add_frame_number(video_path)"
   ]
  },
  {
   "cell_type": "code",
   "execution_count": null,
   "id": "4e3c49ff",
   "metadata": {
    "hidden": true
   },
   "outputs": [],
   "source": []
  },
  {
   "cell_type": "code",
   "execution_count": null,
   "id": "90dc84f3",
   "metadata": {
    "hidden": true
   },
   "outputs": [],
   "source": [
    "!mkdir output"
   ]
  },
  {
   "cell_type": "code",
   "execution_count": null,
   "id": "628400d5",
   "metadata": {
    "code_folding": [
     0
    ],
    "hidden": true
   },
   "outputs": [],
   "source": [
    "for folder in os.listdir(\"Videos/\"):\n",
    "    print(\"FOLDER \", folder)\n",
    "    for subfolder in os.listdir(\"Videos/\" + folder ):\n",
    "        for subsubfolder in os.listdir(\"Videos/\" + folder + \"/\" + subfolder ):\n",
    "            for file in os.listdir(\"Videos/\" + folder + \"/\" + subfolder +  \"/\" + subsubfolder ):\n",
    "                if \".mp4\" in file:\n",
    "                    print(folder ,\"====\", subfolder, \"===\", subsubfolder, \"===\", file)\n",
    "                    folder_path=os.path.join(\"output\", folder, subfolder, subsubfolder)\n",
    "                    os.makedirs(folder_path, exist_ok = True)\n",
    "                    video_path = os.path.join(\"Videos\", folder, subfolder, subsubfolder, file)\n",
    "#                     print(cv2.VideoCapture(video_path).isOpened())\n",
    "                    add_frame_number(video_path)  "
   ]
  },
  {
   "cell_type": "code",
   "execution_count": null,
   "id": "d396e4f4",
   "metadata": {
    "code_folding": [
     0
    ],
    "hidden": true
   },
   "outputs": [],
   "source": [
    "for file in os.listdir(\"Better/\"):\n",
    "    if \".mp4\" in file:\n",
    "#         print(folder ,\"====\", subfolder, \"===\", subsubfolder, \"===\", file)\n",
    "#         folder_path=os.path.join(\"output\", folder, subfolder, subsubfolder)\n",
    "#         os.makedirs(folder_path, exist_ok = True)\n",
    "        video_path = os.path.join(\"Better\", file)\n",
    "        add_frame_number(video_path)     "
   ]
  },
  {
   "cell_type": "code",
   "execution_count": null,
   "id": "daf0ead9",
   "metadata": {
    "code_folding": [
     0
    ],
    "hidden": true
   },
   "outputs": [],
   "source": [
    "for folder in os.listdir(\"Videos/\"):\n",
    "    print(\"FOLDER \", folder)\n",
    "    for subfolder in os.listdir(\"Videos/\" + folder ):\n",
    "        for subsubfolder in os.listdir(\"Videos/\" + folder + \"/\" + subfolder ):\n",
    "            for file in os.listdir(\"Videos/\" + folder + \"/\" + subfolder +  \"/\" + subsubfolder ):\n",
    "                if \".mp4\" in file:\n",
    "                    print(folder ,\"====\", subfolder, \"===\", subsubfolder, \"===\", file)\n",
    "                    folder_path=os.path.join(\"output\", folder, subfolder, subsubfolder)\n",
    "                    os.makedirs(folder_path, exist_ok = True)\n",
    "                    video_path = os.path.join(\"Videos\", folder, subfolder, subsubfolder, file)\n",
    "#                     print(cv2.VideoCapture(video_path).isOpened())\n",
    "                    add_frame_number(video_path)     "
   ]
  },
  {
   "cell_type": "code",
   "execution_count": null,
   "id": "4f527465",
   "metadata": {
    "hidden": true
   },
   "outputs": [],
   "source": []
  },
  {
   "cell_type": "markdown",
   "id": "f81608c9",
   "metadata": {},
   "source": [
    "#### Opencv Mask"
   ]
  },
  {
   "cell_type": "code",
   "execution_count": 1,
   "id": "cd0fbf1d",
   "metadata": {},
   "outputs": [],
   "source": [
    "import os\n",
    "import sys\n",
    "import cv2\n",
    "import json\n",
    "import numpy as np\n",
    "import pandas as pd\n",
    "from tqdm import tqdm\n",
    "from shapely import geometry\n",
    "import matplotlib.pyplot as plt"
   ]
  },
  {
   "cell_type": "code",
   "execution_count": 6,
   "id": "c43a7374",
   "metadata": {},
   "outputs": [],
   "source": [
    "OPENCV_TABLE_MASKS = \"../rawData/opencvMasks/\"\n",
    "HUMAN_MASKS        = \"../../../../yolov7-segmentation/masks/\"\n",
    "DATASET_PATH       = \"/home/stupa/Desktop/DataAnnotation/Videos/\"\n",
    "SEGMENTATION_DATA  = \"../rawData/betaData/annotations/\""
   ]
  },
  {
   "cell_type": "code",
   "execution_count": 7,
   "id": "8958c9f8",
   "metadata": {},
   "outputs": [],
   "source": [
    "# os.listdir(OPENCV_TABLE_MASKS)"
   ]
  },
  {
   "cell_type": "code",
   "execution_count": 12,
   "id": "92ed37fb",
   "metadata": {},
   "outputs": [
    {
     "data": {
      "text/plain": [
       "'/home/stupa/Desktop/DataAnnotation/Videos/'"
      ]
     },
     "execution_count": 12,
     "metadata": {},
     "output_type": "execute_result"
    }
   ],
   "source": [
    "DATASET_PATH"
   ]
  },
  {
   "cell_type": "code",
   "execution_count": 14,
   "id": "d1c0bd50",
   "metadata": {},
   "outputs": [],
   "source": [
    "DATASET_PATH =  '/home/stupa/Desktop/DataAnnotation/Videos/Videos/'"
   ]
  },
  {
   "cell_type": "code",
   "execution_count": 16,
   "id": "5956957a",
   "metadata": {
    "code_folding": [
     0,
     2
    ]
   },
   "outputs": [
    {
     "name": "stdout",
     "output_type": "stream",
     "text": [
      "singapore\n",
      "Doha\n"
     ]
    }
   ],
   "source": [
    "MATCH_SITE_DICT = {\"singapore\":[],\n",
    "                   \"Doha\":[]}\n",
    "for folder in os.listdir(DATASET_PATH):\n",
    "    print(folder)\n",
    "    for subfolder in os.listdir(os.path.join(DATASET_PATH, folder)):\n",
    "        MATCH_SITE_DICT[folder].append(str(subfolder.strip()))"
   ]
  },
  {
   "cell_type": "code",
   "execution_count": 17,
   "id": "caaa889f",
   "metadata": {},
   "outputs": [
    {
     "data": {
      "text/plain": [
       "{'singapore': [], 'Doha': ['Sharath Kamal AChanta vs Yuan Licen']}"
      ]
     },
     "execution_count": 17,
     "metadata": {},
     "output_type": "execute_result"
    }
   ],
   "source": [
    "MATCH_SITE_DICT"
   ]
  },
  {
   "cell_type": "code",
   "execution_count": null,
   "id": "61428cd4",
   "metadata": {},
   "outputs": [],
   "source": []
  },
  {
   "cell_type": "code",
   "execution_count": 18,
   "id": "2f3a1067",
   "metadata": {
    "code_folding": []
   },
   "outputs": [],
   "source": [
    "def get_mask(NAME):\n",
    "    img = cv2.imread(OPENCV_TABLE_MASKS+NAME+\".jpg\")\n",
    "    return img"
   ]
  },
  {
   "cell_type": "code",
   "execution_count": null,
   "id": "aa2469ea",
   "metadata": {
    "code_folding": [
     1
    ]
   },
   "outputs": [],
   "source": [
    "paths = []\n",
    "for folder in os.listdir(HUMAN_MASKS)[1:]:\n",
    "    keys = folder.replace(\"Set\", \"set\").split(\"set\")\n",
    "    path = None\n",
    "    NAME = None\n",
    "    if keys[0].strip()  in MATCH_SITE_DICT['Doha']:\n",
    "        NAME = \"Doha\"\n",
    "    if keys[0].strip()  in MATCH_SITE_DICT[\"singapore\"]:\n",
    "        NAME = \"singapore\"\n",
    "    if NAME is None:\n",
    "        if \"Tetyana\" in keys[0]:\n",
    "            NAME = \"Doha\"\n",
    "        else:\n",
    "            print(\"PATH ERROR\")\n",
    "    \n",
    "    opencv_mask_ori     = get_mask(NAME)[:,:,0]\n",
    "    opencv_mask_ori     = cv2.resize(opencv_mask_ori, (640, 384))\n",
    "    \n",
    "    human_mask_path     = os.path.join(HUMAN_MASKS,folder)\n",
    "    PATHs               = os.listdir(human_mask_path)\n",
    "    \n",
    "    mask_annot_dir      = os.path.join(SEGMENTATION_DATA, folder.replace(\" \",\"_\"))\n",
    "    os.makedirs(mask_annot_dir, exist_ok=True)\n",
    "    print(human_mask_path)\n",
    "    for mask_index in tqdm(range(1, len(PATHs)+1)):\n",
    "        try:\n",
    "            opencv_mask = opencv_mask_ori.copy()\n",
    "            human_mask_name = str(mask_index) + \".npy\"\n",
    "            human_mask      = np.load(os.path.join(human_mask_path ,human_mask_name))\n",
    "            selected_pixels = np.where(human_mask == 1)\n",
    "            for x in range(len(selected_pixels[0])):\n",
    "                opencv_mask[selected_pixels[0][x], selected_pixels[1][x]] = 0\n",
    "            combined_mask   = np.zeros((384, 640, 3))\n",
    "            human_mask      = human_mask.astype(np.int32)\n",
    "            human_mask      = np.where(human_mask == 1, 255,0)\n",
    "            combined_mask[:,:,0] = human_mask\n",
    "            combined_mask[:,:,1] = opencv_mask\n",
    "\n",
    "            cv2.imwrite(mask_annot_dir + \"/\" + str(mask_index) +\".jpg\", combined_mask)\n",
    "        \n",
    "        except Exception as e:\n",
    "            print(\"ERROR \", e)\n",
    "#         break\n",
    "#     break"
   ]
  },
  {
   "cell_type": "code",
   "execution_count": 20,
   "id": "cec2d47d",
   "metadata": {},
   "outputs": [],
   "source": [
    "NAME = \"Doha\""
   ]
  },
  {
   "cell_type": "code",
   "execution_count": 38,
   "id": "66ad4dad",
   "metadata": {
    "collapsed": true
   },
   "outputs": [
    {
     "name": "stdout",
     "output_type": "stream",
     "text": [
      "Wang Chuqin vs Ma Long set3 None\n",
      "Fan Siqi VS Zhang Rui Set3 None\n",
      "Dang Qiu vs Yuan Licen set3 None\n",
      "Manika Batra vs Qian Tianyi set 1 None\n",
      "Manika Batra vs Qian Tianyi set 5 None\n",
      "Sharath Kamal AChanta vs Yuan Licen set1 Doha\n",
      "Dang Qiu vs Yuan Licen set4 None\n",
      "Fan Zhendong vs An Jaehyun set2 None\n",
      "Wang Chuqin vs Ma Long set2 None\n",
      "Tetyana vs Sofia Set 1 Doha\n",
      "Sharath Kamal AChanta vs Yuan Licen set2 Doha\n",
      "Fan Siqi VS Zhang Rui Set5 None\n",
      "Wang Chuqin vs Ma Long set1 None\n",
      "Fan Siqi VS Zhang Rui Set7 None\n",
      "Lin YunJu vs Ma Long set4 None\n",
      "Dang Qiu vs Yuan Licen set1 None\n",
      "Fan Zhendong vs An Jaehyun set4 None\n",
      "Hugo Calderand vs Dang Qiu set2 None\n",
      "Fan Siqi VS Zhang Rui Set1 None\n",
      "Lin YunJu vs Ma Long set1 None\n",
      "Hugo Calderand vs Dang Qiu set1 None\n",
      "Sharath Kamal AChanta vs Yuan Licen set5 Doha\n",
      "Dang Qiu vs Yuan Licen set2 None\n",
      "Hugo Calderand vs Dang Qiu set3 None\n",
      "Sharath Kamal AChanta vs Yuan Licen set4 Doha\n",
      "Manika Batra vs Qian Tianyi set 3 None\n",
      "Hugo Calderand vs Dang Qiu set4 None\n",
      "Sharath Kamal AChanta vs Yuan Licen set7 Doha\n",
      "Fan Siqi VS Zhang Rui Set4 None\n",
      "Tetyana vs Sofia Set 3 Doha\n",
      "Fan Siqi VS Zhang Rui Set6 None\n",
      "Wang Chuqin vs Ma Long set5 None\n",
      "Lin YunJu vs Ma Long set3 None\n",
      "Lin YunJu vs Ma Long set5 None\n",
      "Fan Zhendong vs Masataka Morizano set3 None\n",
      "Tetyana vs Sofia Set 4 Doha\n",
      "Fan Zhendong vs An Jaehyun set3 None\n",
      "Fan Siqi VS Zhang Rui Set2 None\n",
      "Wang Chuqin vs Ma Long set4 None\n",
      "Lin YunJu vs Ma Long set2 None\n",
      "Fan Zhendong vs Masataka Morizano set1 None\n",
      "Manika Batra vs Qian Tianyi set 2 None\n",
      "Hugo Calderand vs Dang Qiu set5 None\n",
      "Fan Zhendong vs An Jaehyun set1 None\n",
      "Sharath Kamal AChanta vs Yuan Licen set3 Doha\n",
      "Manika Batra vs Qian Tianyi set 4 None\n",
      "Dang Qiu vs Yuan Licen set5 None\n",
      "Dang Qiu vs Yuan Licen set6 None\n",
      "Fan Zhendong vs Masataka Morizano set2 None\n",
      "Sharath Kamal AChanta vs Yuan Licen set6 Doha\n",
      "Tetyana vs Sofia Set 2 Doha\n"
     ]
    }
   ],
   "source": [
    "for folder in os.listdir(HUMAN_MASKS):\n",
    "    keys = folder.replace(\"Set\", \"set\").split(\"set\")\n",
    "    path = None\n",
    "    NAME = None\n",
    "    if keys[0].strip()  in MATCH_SITE_DICT['Doha']:\n",
    "        NAME = \"Doha\"\n",
    "    if keys[0].strip()  in MATCH_SITE_DICT[\"singapore\"]:\n",
    "        NAME = \"singapore\"\n",
    "    if NAME is None:\n",
    "        if \"Tetyana\" in keys[0]:\n",
    "            NAME = \"Doha\"\n",
    "        else:\n",
    "            pass\n",
    "            \n",
    "    print(folder, NAME)"
   ]
  },
  {
   "cell_type": "code",
   "execution_count": 39,
   "id": "8d8d008f",
   "metadata": {},
   "outputs": [],
   "source": [
    "folder,NAME = \"Wang Chuqin vs Ma Long set3\", \"singapore\""
   ]
  },
  {
   "cell_type": "code",
   "execution_count": 40,
   "id": "47a93f5a",
   "metadata": {},
   "outputs": [],
   "source": [
    "opencv_mask_ori     = get_mask(NAME)[:,:,0]\n",
    "opencv_mask_ori     = cv2.resize(opencv_mask_ori, (640, 384))\n",
    "\n",
    "human_mask_path     = os.path.join(HUMAN_MASKS,folder)\n",
    "PATHs               = os.listdir(human_mask_path)\n",
    "\n"
   ]
  },
  {
   "cell_type": "code",
   "execution_count": 41,
   "id": "8544e61a",
   "metadata": {},
   "outputs": [
    {
     "data": {
      "text/plain": [
       "'../../../../yolov7-segmentation/masks/Wang Chuqin vs Ma Long set3'"
      ]
     },
     "execution_count": 41,
     "metadata": {},
     "output_type": "execute_result"
    }
   ],
   "source": [
    "human_mask_path"
   ]
  },
  {
   "cell_type": "code",
   "execution_count": 42,
   "id": "f14ed45c",
   "metadata": {},
   "outputs": [],
   "source": [
    "mask_annot_dir      = os.path.join(SEGMENTATION_DATA, folder.replace(\" \",\"_\"))\n",
    "\n"
   ]
  },
  {
   "cell_type": "code",
   "execution_count": 43,
   "id": "deae518f",
   "metadata": {},
   "outputs": [
    {
     "data": {
      "text/plain": [
       "'../rawData/betaData/annotations/Wang_Chuqin_vs_Ma_Long_set3'"
      ]
     },
     "execution_count": 43,
     "metadata": {},
     "output_type": "execute_result"
    }
   ],
   "source": [
    "mask_annot_dir"
   ]
  },
  {
   "cell_type": "code",
   "execution_count": 44,
   "id": "df5462c5",
   "metadata": {},
   "outputs": [
    {
     "name": "stdout",
     "output_type": "stream",
     "text": [
      "../../../../yolov7-segmentation/masks/Wang Chuqin vs Ma Long set3\n"
     ]
    }
   ],
   "source": [
    "os.makedirs(mask_annot_dir, exist_ok=True)\n",
    "print(human_mask_path)"
   ]
  },
  {
   "cell_type": "code",
   "execution_count": 45,
   "id": "efda3197",
   "metadata": {},
   "outputs": [
    {
     "name": "stderr",
     "output_type": "stream",
     "text": [
      " 41%|████▏     | 812/1968 [00:10<00:11, 103.64it/s]"
     ]
    },
    {
     "name": "stdout",
     "output_type": "stream",
     "text": [
      "ERROR  [Errno 2] No such file or directory: '../../../../yolov7-segmentation/masks/Wang Chuqin vs Ma Long set3/782.npy'\n",
      "ERROR  [Errno 2] No such file or directory: '../../../../yolov7-segmentation/masks/Wang Chuqin vs Ma Long set3/783.npy'\n",
      "ERROR  [Errno 2] No such file or directory: '../../../../yolov7-segmentation/masks/Wang Chuqin vs Ma Long set3/784.npy'\n",
      "ERROR  [Errno 2] No such file or directory: '../../../../yolov7-segmentation/masks/Wang Chuqin vs Ma Long set3/785.npy'\n",
      "ERROR  [Errno 2] No such file or directory: '../../../../yolov7-segmentation/masks/Wang Chuqin vs Ma Long set3/786.npy'\n",
      "ERROR  [Errno 2] No such file or directory: '../../../../yolov7-segmentation/masks/Wang Chuqin vs Ma Long set3/787.npy'\n",
      "ERROR  [Errno 2] No such file or directory: '../../../../yolov7-segmentation/masks/Wang Chuqin vs Ma Long set3/788.npy'\n",
      "ERROR  [Errno 2] No such file or directory: '../../../../yolov7-segmentation/masks/Wang Chuqin vs Ma Long set3/789.npy'\n",
      "ERROR  [Errno 2] No such file or directory: '../../../../yolov7-segmentation/masks/Wang Chuqin vs Ma Long set3/790.npy'\n",
      "ERROR  [Errno 2] No such file or directory: '../../../../yolov7-segmentation/masks/Wang Chuqin vs Ma Long set3/791.npy'\n",
      "ERROR  [Errno 2] No such file or directory: '../../../../yolov7-segmentation/masks/Wang Chuqin vs Ma Long set3/792.npy'\n"
     ]
    },
    {
     "name": "stderr",
     "output_type": "stream",
     "text": [
      "100%|██████████| 1968/1968 [00:27<00:00, 71.63it/s] \n"
     ]
    }
   ],
   "source": [
    "for mask_index in tqdm(range(1, len(PATHs)+1)):\n",
    "    try:\n",
    "        opencv_mask = opencv_mask_ori.copy()\n",
    "        human_mask_name = str(mask_index) + \".npy\"\n",
    "        human_mask      = np.load(os.path.join(human_mask_path ,human_mask_name))\n",
    "        selected_pixels = np.where(human_mask == 1)\n",
    "        for x in range(len(selected_pixels[0])):\n",
    "            opencv_mask[selected_pixels[0][x], selected_pixels[1][x]] = 0\n",
    "        combined_mask   = np.zeros((384, 640, 3))\n",
    "        human_mask      = human_mask.astype(np.int32)\n",
    "        human_mask      = np.where(human_mask == 1, 255,0)\n",
    "        combined_mask[:,:,0] = human_mask\n",
    "        combined_mask[:,:,1] = opencv_mask\n",
    "\n",
    "        cv2.imwrite(mask_annot_dir + \"/\" + str(mask_index) +\".jpg\", combined_mask)\n",
    "\n",
    "    except Exception as e:\n",
    "        print(\"ERROR \", e)\n",
    "#         break\n",
    "#     break"
   ]
  },
  {
   "cell_type": "code",
   "execution_count": null,
   "id": "30d70aa5",
   "metadata": {},
   "outputs": [],
   "source": []
  },
  {
   "cell_type": "code",
   "execution_count": null,
   "id": "4b7a7c4e",
   "metadata": {},
   "outputs": [],
   "source": []
  },
  {
   "cell_type": "code",
   "execution_count": null,
   "id": "99f4db06",
   "metadata": {},
   "outputs": [],
   "source": []
  },
  {
   "cell_type": "code",
   "execution_count": null,
   "id": "c9bbbb76",
   "metadata": {},
   "outputs": [],
   "source": [
    "test = cv2.imread(mask_annot_dir+ \"/\" + str(mask_index) +\".jpg\")"
   ]
  },
  {
   "cell_type": "code",
   "execution_count": null,
   "id": "32a37d4f",
   "metadata": {},
   "outputs": [],
   "source": [
    "opencv_mask.shape"
   ]
  },
  {
   "cell_type": "code",
   "execution_count": null,
   "id": "7f0b8f77",
   "metadata": {},
   "outputs": [],
   "source": [
    "plt.imshow(opencv_mask)"
   ]
  },
  {
   "cell_type": "code",
   "execution_count": null,
   "id": "9184c2a1",
   "metadata": {},
   "outputs": [],
   "source": [
    "plt.imshow(combined_mask)"
   ]
  },
  {
   "cell_type": "code",
   "execution_count": null,
   "id": "43cf54b4",
   "metadata": {},
   "outputs": [],
   "source": [
    "plt.imshow(test)"
   ]
  },
  {
   "cell_type": "code",
   "execution_count": null,
   "id": "2225e55d",
   "metadata": {},
   "outputs": [],
   "source": [
    "plt.imshow(test[:,:,1])"
   ]
  },
  {
   "cell_type": "code",
   "execution_count": null,
   "id": "7d2aac13",
   "metadata": {},
   "outputs": [],
   "source": [
    "# plt.imshow(human_mask)"
   ]
  },
  {
   "cell_type": "code",
   "execution_count": null,
   "id": "9a7e5a97",
   "metadata": {},
   "outputs": [],
   "source": [
    "# plt.imshow(opencv_mask)"
   ]
  },
  {
   "cell_type": "code",
   "execution_count": null,
   "id": "c7bab49b",
   "metadata": {},
   "outputs": [],
   "source": [
    "# plt.imshow(combined_mask)"
   ]
  },
  {
   "cell_type": "code",
   "execution_count": null,
   "id": "3cae58d1",
   "metadata": {},
   "outputs": [],
   "source": []
  },
  {
   "cell_type": "markdown",
   "id": "ba44dc20",
   "metadata": {},
   "source": [
    "#### Validating Mask"
   ]
  },
  {
   "cell_type": "code",
   "execution_count": 35,
   "id": "ceb00dc2",
   "metadata": {},
   "outputs": [],
   "source": [
    "# ground_mask = \"/home/stupa/Desktop/Rahul/Research/Code/V3/dataset/training/annotations/game_1/segmentation_masks/100.png\"/\n",
    "valid_folder  = \"/home/stupa/Desktop/Rahul/Research/Code/V3/rawData/betaData/annotations/Sharath_Kamal_AChanta_vs_Yuan_Licen_set7/\""
   ]
  },
  {
   "cell_type": "code",
   "execution_count": 36,
   "id": "055c092e",
   "metadata": {},
   "outputs": [],
   "source": [
    "imgs=[]\n",
    "for i in range(1, len(os.listdir(valid_folder))+1):\n",
    "    imgs.append(cv2.imread(os.path.join(valid_folder, str(i)+'.jpg')))\n",
    "height,width,layers=imgs[1].shape"
   ]
  },
  {
   "cell_type": "code",
   "execution_count": 37,
   "id": "c98bc227",
   "metadata": {},
   "outputs": [],
   "source": [
    "video=cv2.VideoWriter('test.avi',cv2.VideoWriter_fourcc(*'MJPG'), 10,(width,height))\n",
    "for i in range(1, len(os.listdir(valid_folder))):\n",
    "    video.write(imgs[i])\n",
    "\n",
    "video.release()"
   ]
  },
  {
   "cell_type": "code",
   "execution_count": null,
   "id": "c0e6a3be",
   "metadata": {},
   "outputs": [],
   "source": []
  },
  {
   "cell_type": "markdown",
   "id": "c6991948",
   "metadata": {},
   "source": [
    "#### Structuring Dataset"
   ]
  },
  {
   "cell_type": "code",
   "execution_count": null,
   "id": "32a850df",
   "metadata": {},
   "outputs": [],
   "source": []
  },
  {
   "cell_type": "code",
   "execution_count": null,
   "id": "8db86f2d",
   "metadata": {},
   "outputs": [],
   "source": []
  },
  {
   "cell_type": "markdown",
   "id": "1d0c024f",
   "metadata": {},
   "source": [
    "#### Generating EventStats"
   ]
  },
  {
   "cell_type": "markdown",
   "id": "f349aa9c",
   "metadata": {},
   "source": [
    "#####  Pitching Dataset and event coords"
   ]
  },
  {
   "cell_type": "code",
   "execution_count": null,
   "id": "9da3581c",
   "metadata": {},
   "outputs": [],
   "source": [
    "import json\n",
    "import pandas as pd"
   ]
  },
  {
   "cell_type": "code",
   "execution_count": null,
   "id": "4b7474c6",
   "metadata": {},
   "outputs": [],
   "source": [
    "xls = pd.ExcelFile(\"../rawData/sheet/Data.xlsx\")\n",
    "main_df = pd.read_excel(xls, 'Sharath Kamal AChanta vs Yuan L')"
   ]
  },
  {
   "cell_type": "code",
   "execution_count": null,
   "id": "b41372df",
   "metadata": {},
   "outputs": [],
   "source": [
    "pitch_df = main_df[main_df[\"Pitch\"]==\"yes\"]"
   ]
  },
  {
   "cell_type": "code",
   "execution_count": null,
   "id": "5e110253",
   "metadata": {},
   "outputs": [],
   "source": [
    "pitch_df = pitch_df[pitch_df[\"Set Number\"]==6]"
   ]
  },
  {
   "cell_type": "code",
   "execution_count": null,
   "id": "99a9e63a",
   "metadata": {},
   "outputs": [],
   "source": [
    "pitch_df.head()"
   ]
  },
  {
   "cell_type": "code",
   "execution_count": null,
   "id": "0148be22",
   "metadata": {},
   "outputs": [],
   "source": []
  },
  {
   "cell_type": "code",
   "execution_count": null,
   "id": "297557b2",
   "metadata": {},
   "outputs": [],
   "source": [
    "angle_df = main_df[main_df[\"Angel change\"]==\"yes\"]"
   ]
  },
  {
   "cell_type": "code",
   "execution_count": null,
   "id": "9326320a",
   "metadata": {},
   "outputs": [],
   "source": [
    "angle_df.head()"
   ]
  },
  {
   "cell_type": "code",
   "execution_count": null,
   "id": "94f660e0",
   "metadata": {},
   "outputs": [],
   "source": []
  },
  {
   "cell_type": "code",
   "execution_count": null,
   "id": "6b5139a7",
   "metadata": {},
   "outputs": [],
   "source": []
  },
  {
   "cell_type": "code",
   "execution_count": null,
   "id": "676f5de5",
   "metadata": {},
   "outputs": [],
   "source": []
  },
  {
   "cell_type": "markdown",
   "id": "9a93c7bf",
   "metadata": {},
   "source": [
    "#####  Ball Location Dataset"
   ]
  },
  {
   "cell_type": "code",
   "execution_count": null,
   "id": "8e6b59a2",
   "metadata": {},
   "outputs": [],
   "source": [
    "angle_change_df = main_df[main_df[\"Angel change\"]==\"yes\"]\n",
    "angle_change_df = angle_change_df[angle_change_df[\"Set Number\"]==6]\n",
    "angle_change_df"
   ]
  },
  {
   "cell_type": "code",
   "execution_count": null,
   "id": "68686c2b",
   "metadata": {},
   "outputs": [],
   "source": [
    "frames_to_skip = []\n",
    "for index, row in angle_change_df.iterrows():\n",
    "#     print(row[\"Frame Number Start\"], row[\"Frame Number End\"])\n",
    "#     frames_to_skip[row[\"Frame Number Start\"]] = row[\"Frame Number End\"]\n",
    "    for i in range(row[\"Frame Number Start\"], row[\"Frame Number End\"]+1):\n",
    "        frames_to_skip.append(i)\n",
    "frames_to_skip"
   ]
  },
  {
   "cell_type": "code",
   "execution_count": null,
   "id": "9f3f27a3",
   "metadata": {},
   "outputs": [],
   "source": []
  },
  {
   "cell_type": "code",
   "execution_count": null,
   "id": "47ce8306",
   "metadata": {},
   "outputs": [],
   "source": []
  },
  {
   "cell_type": "markdown",
   "id": "69a7daf8",
   "metadata": {},
   "source": [
    "## Tool to check annotation"
   ]
  },
  {
   "cell_type": "code",
   "execution_count": null,
   "id": "1c505477",
   "metadata": {},
   "outputs": [],
   "source": [
    "%cd \"D:/Stupa/V3 Data\""
   ]
  },
  {
   "cell_type": "code",
   "execution_count": 1,
   "id": "e8ace846",
   "metadata": {},
   "outputs": [],
   "source": [
    "import os\n",
    "import sys\n",
    "import cv2\n",
    "import numpy as np\n",
    "import pandas as pd\n",
    "import matplotlib.pyplot as plt"
   ]
  },
  {
   "cell_type": "code",
   "execution_count": 6,
   "id": "cc860b27",
   "metadata": {
    "code_folding": [
     29,
     31,
     35,
     43,
     46,
     54,
     60,
     71,
     77,
     88
    ]
   },
   "outputs": [],
   "source": [
    "class Tool:\n",
    "    def __init__(self, SET_NUMBER=1, VIDEO_PATH=None):\n",
    "        self.clip_videos    = True\n",
    "        self.plot_pitches   = True\n",
    "        self.plot_shot      = True\n",
    "        self.plot_service   = True\n",
    "    \n",
    "        self.data           = pd.read_csv(\"Data Annotation timeline - Dang Qiu vs Yuan Licen .csv\")\n",
    "#         xls                 = pd.ExcelFile(\"../rawData/sheet/Data.xlsx\")\n",
    "#         self.data           = pd.read_excel(xls, 'Sharath Kamal AChanta vs Yuan L')\n",
    "        self.data           = self.data.replace('?', np.NaN)\n",
    "        self.data           = self.data.replace('no', np.NaN)\n",
    "\n",
    "        self.SET_NUMBER     = SET_NUMBER\n",
    "        self.data           = self.data[self.data[\"Set Number\"] == str(self.SET_NUMBER)]\n",
    "#         VIDEO_PATH          = \"D:/Stupa/V3 Data/Videos/\"\n",
    "        VIDEO_PATH          = \"/home/stupa/Desktop/DataAnnotation/Videos/\"\n",
    "        VIDEO_PATH          = os.path.join(VIDEO_PATH , self.data.iloc[0][\"Location\"] , self.data.iloc[0][\"Match Name\"].strip())\n",
    "        \n",
    "        VIDEO_PATH      = os.path.join(VIDEO_PATH , \"Set\" + self.data.iloc[0][\"Set Number\"].strip() )\n",
    "        self.VIDEO_PATH = os.path.join(VIDEO_PATH ,  self.data.iloc[0][\"Match Name\"] + \"set\" +  self.data.iloc[0][\"Set Number\"].strip() + \".mp4\")\n",
    "#         self.VIDEO_PATH = \"/home/stupa/Desktop/DataAnnotation/Videos/Doha/Sharath Kamal AChanta vs Yuan Licen/set6/Sharath Kamal AChanta vs Yuan Licen set6.mp4\"\n",
    "        self.FRAME_NUMBER = -1\n",
    "        self.CAP          = cv2.VideoCapture(self.VIDEO_PATH)\n",
    "        self.fps          = self.CAP.get(cv2.CAP_PROP_FPS)\n",
    "        self.output_video = cv2.VideoWriter('result.mp4',\n",
    "                                 cv2.VideoWriter_fourcc(*'MP4V'),\n",
    "                                 self.fps,  (1920, 1080))\n",
    "        \n",
    "        if self.CAP.isOpened():\n",
    "            print(\"Video Opened\", self.fps)\n",
    "        else:\n",
    "            print(\"issue in Video loading \", self.VIDEO_PATH)\n",
    "        \n",
    "        #clipping Data\n",
    "        if self.clip_videos == True:\n",
    "            self.data[\"Frame Number Start\"] = pd.to_numeric(self.data[\"Frame Number Start\"])\n",
    "            self.data[\"Frame Number End\"]   = pd.to_numeric(self.data[\"Frame Number End\"])\n",
    "            self.unskipped_frames           = self.data.loc[self.data['Angel change'].notnull(), [\"Frame Number Start\", 'Frame Number End']]\n",
    "            self.skip_index                 = 0\n",
    "            self.start_skip                 = list(self.unskipped_frames[\"Frame Number Start\"].values)\n",
    "            self.end_skip                   = list(self.unskipped_frames[\"Frame Number End\"].values)\n",
    "\n",
    "        if self.plot_pitches:\n",
    "            self.pitches_frames =  list(self.data.loc[self.data['Pitch'].notnull(), [\"Frame Number Start\"]][\"Frame Number Start\"].values)\n",
    "            \n",
    "        if self.plot_shot:\n",
    "            \n",
    "            self.shot_frames =  self.data.loc[self.data['ShotType'].notnull(), [\"ShotType\",\"Frame Number Start\",\"Frame Number End\"]]\n",
    "            self.shot_index       = 0\n",
    "            self.shot_list        = list(self.shot_frames[\"ShotType\"].values)\n",
    "            self.start_shot       = list(self.shot_frames[\"Frame Number Start\"].values)\n",
    "            self.end_shot         = list(self.shot_frames[\"Frame Number End\"].values)\n",
    "            \n",
    "        if self.plot_service:\n",
    "            self.service_frames  =   self.data.loc[self.data['Service'].notnull(), [\"Frame Number Start\",\"Frame Number End\"]]\n",
    "            self.start_service   =   list(self.service_frames[\"Frame Number Start\"].values)\n",
    "            self.end_service     =   list(self.service_frames[\"Frame Number End\"].values)\n",
    "            self.service_index   =   0\n",
    "        \n",
    "    def videos_clip(self):\n",
    "        if self.skip_index < len(self.start_skip):\n",
    "            if self.FRAME_NUMBER == self.start_skip[self.skip_index]:\n",
    "                    for _ in range(self.end_skip[self.skip_index] - self.start_skip[self.skip_index]):\n",
    "                        _, _ = self.CAP.read()\n",
    "                        self.FRAME_NUMBER += 1\n",
    "                    print(\"Frame Skipped \", \"**********************\" ,self.skip_index,self.end_skip[self.skip_index], self.start_skip[self.skip_index]  )\n",
    "                    self.skip_index += 1\n",
    "        else:\n",
    "            pass\n",
    "    \n",
    "    def pitches_plot(self):\n",
    "        status = False\n",
    "        if self.FRAME_NUMBER in self.pitches_frames:\n",
    "            status = True\n",
    "        self.frame = cv2.putText(self.frame,\"Pitch : \" + str(status), (1600, 140),  cv2.FONT_HERSHEY_SIMPLEX, 1, (255, 255, 255), 2, cv2.LINE_AA)\n",
    "        \n",
    "    def shot_plot(self):\n",
    "        \n",
    "        if self.shot_index < len(self.shot_list):\n",
    "            if self.FRAME_NUMBER >= self.start_shot[self.shot_index] and self.FRAME_NUMBER < self.end_shot[self.shot_index] :\n",
    "                SHOT = self.shot_list[self.shot_index]\n",
    "                self.frame = cv2.putText(self.frame,\"SHOT : \" + str(SHOT), (1600, 180),  cv2.FONT_HERSHEY_SIMPLEX, 1, (255, 255, 255), 2, cv2.LINE_AA)\n",
    "            elif self.FRAME_NUMBER == self.end_shot[self.shot_index]:\n",
    "                SHOT = self.shot_list[self.shot_index]\n",
    "                self.frame = cv2.putText(self.frame,\"SHOT : \" + str(SHOT), (1600, 180),  cv2.FONT_HERSHEY_SIMPLEX, 1, (255, 255, 255), 2, cv2.LINE_AA)\n",
    "                self.shot_index += 1\n",
    "\n",
    "    def service_plot(self):\n",
    "        \n",
    "        if self.service_index < len(self.service_frames):\n",
    "            if self.FRAME_NUMBER >= self.start_service[self.service_index] and self.FRAME_NUMBER < self.end_service[self.service_index] :\n",
    "                self.frame = cv2.putText(self.frame,\"Service\", (1600, 220),  cv2.FONT_HERSHEY_SIMPLEX, 1, (255, 255, 255), 2, cv2.LINE_AA)\n",
    "            elif self.FRAME_NUMBER == self.end_service[self.service_index]:\n",
    "                self.frame = cv2.putText(self.frame,\"Service\", (1600, 220),  cv2.FONT_HERSHEY_SIMPLEX, 1, (255, 255, 255), 2, cv2.LINE_AA)\n",
    "                self.service_index += 1\n",
    "        \n",
    "    def frame_count(self):\n",
    "        self.frame = cv2.putText(self.frame,\"Frame Number: \"+ str(self.FRAME_NUMBER), (1600, 100),  cv2.FONT_HERSHEY_SIMPLEX, 1, (255, 255, 255), 2, cv2.LINE_AA)\n",
    "        \n",
    "    def __call__(self):\n",
    "        self.frame_count()\n",
    "        if self.clip_videos:\n",
    "            self.videos_clip()      \n",
    "        if self.plot_pitches:\n",
    "            self.pitches_plot()\n",
    "        if self.plot_shot:\n",
    "            self.shot_plot()\n",
    "        if self.plot_service:\n",
    "            self.service_plot()\n",
    "    \n",
    "    def run(self):\n",
    "        while True:\n",
    "            ret, self.frame = self.CAP.read()\n",
    "            if ret == False:\n",
    "                break\n",
    "            self.FRAME_NUMBER += 1\n",
    "            self()\n",
    "            self.output_video.write(self.frame)\n",
    "        self.output_video.release()"
   ]
  },
  {
   "cell_type": "code",
   "execution_count": 10,
   "id": "72a1ba07",
   "metadata": {},
   "outputs": [
    {
     "name": "stdout",
     "output_type": "stream",
     "text": [
      "Video Opened 30.0\n"
     ]
    }
   ],
   "source": [
    "tool = Tool()"
   ]
  },
  {
   "cell_type": "code",
   "execution_count": 11,
   "id": "f90d8c0a",
   "metadata": {},
   "outputs": [],
   "source": [
    "# tool.clip_videos, tool.start_skip"
   ]
  },
  {
   "cell_type": "code",
   "execution_count": 12,
   "id": "263031b3",
   "metadata": {},
   "outputs": [
    {
     "name": "stdout",
     "output_type": "stream",
     "text": [
      "Frame Skipped  ********************** 0 170 142\n",
      "Frame Skipped  ********************** 1 516 408\n",
      "Frame Skipped  ********************** 2 725 695\n",
      "Frame Skipped  ********************** 3 961 910\n",
      "Frame Skipped  ********************** 4 1153 1115\n",
      "Frame Skipped  ********************** 5 1272 1251\n",
      "Frame Skipped  ********************** 6 1525 1470\n",
      "Frame Skipped  ********************** 7 1719 1685\n",
      "Frame Skipped  ********************** 8 1899 1840\n",
      "Frame Skipped  ********************** 9 2118 2026\n",
      "Frame Skipped  ********************** 10 2675 2251\n",
      "Frame Skipped  ********************** 11 3113 2808\n",
      "Frame Skipped  ********************** 12 3719 3239\n",
      "Frame Skipped  ********************** 13 2947 3928\n"
     ]
    }
   ],
   "source": [
    "tool.run()"
   ]
  },
  {
   "cell_type": "code",
   "execution_count": 13,
   "id": "6d7f8012",
   "metadata": {},
   "outputs": [],
   "source": [
    "# import json\n",
    "# game = json.load(\"C:/Users/rlrah/Downloads/game.json\")\n",
    "# f = open(\"C:/Users/rlrah/Downloads/game.json\")\n",
    "# game = json.load(f)\n",
    "# game.keys()\n",
    "# f = open(\"C:/Users/rlrah/Downloads/point.json\")\n",
    "# point = json.load(f)\n",
    "# point.keys()"
   ]
  },
  {
   "cell_type": "code",
   "execution_count": null,
   "id": "5a89778e",
   "metadata": {},
   "outputs": [],
   "source": []
  },
  {
   "cell_type": "markdown",
   "id": "0058eb85",
   "metadata": {},
   "source": [
    "### Mask Data Generator"
   ]
  },
  {
   "cell_type": "code",
   "execution_count": null,
   "id": "57d8bdb6",
   "metadata": {},
   "outputs": [],
   "source": [
    "# %cd \"D:/Stupa/V3 Data\"\n",
    "%cd \"../new/yolov7-segmentation/\""
   ]
  },
  {
   "cell_type": "code",
   "execution_count": null,
   "id": "a33ab5e9",
   "metadata": {},
   "outputs": [],
   "source": [
    "pwd"
   ]
  },
  {
   "cell_type": "code",
   "execution_count": null,
   "id": "002cb7ff",
   "metadata": {},
   "outputs": [],
   "source": [
    "import os\n",
    "import sys\n",
    "import cv2\n",
    "import numpy as np\n",
    "import pandas as pd\n",
    "import matplotlib.pyplot as plt"
   ]
  },
  {
   "cell_type": "code",
   "execution_count": null,
   "id": "1f2e990f",
   "metadata": {},
   "outputs": [],
   "source": []
  },
  {
   "cell_type": "code",
   "execution_count": null,
   "id": "d52d23a1",
   "metadata": {},
   "outputs": [],
   "source": [
    "os.listdir(\".\")"
   ]
  },
  {
   "cell_type": "code",
   "execution_count": null,
   "id": "599a41f4",
   "metadata": {},
   "outputs": [],
   "source": [
    "HUMAN_MASKS  = \"masks/\"\n",
    "OPENCV_MASKS = \"Videos/tablemasks/\""
   ]
  },
  {
   "cell_type": "code",
   "execution_count": null,
   "id": "f517b0fb",
   "metadata": {},
   "outputs": [],
   "source": [
    "for _ in os.listdir(HUMAN_MASKS):\n",
    "    MASK = np.load(os.path.join(HUMAN_MASKS, _))\n",
    "    print(_)\n",
    "    break"
   ]
  },
  {
   "cell_type": "code",
   "execution_count": null,
   "id": "e868a381",
   "metadata": {},
   "outputs": [],
   "source": [
    "plt.imshow(MASK)"
   ]
  },
  {
   "cell_type": "code",
   "execution_count": null,
   "id": "54bc4252",
   "metadata": {},
   "outputs": [],
   "source": [
    "MASK.shape"
   ]
  },
  {
   "cell_type": "code",
   "execution_count": null,
   "id": "fa7fb8d9",
   "metadata": {},
   "outputs": [],
   "source": []
  }
 ],
 "metadata": {
  "kernelspec": {
   "display_name": "Python 3",
   "language": "python",
   "name": "python3"
  },
  "language_info": {
   "codemirror_mode": {
    "name": "ipython",
    "version": 3
   },
   "file_extension": ".py",
   "mimetype": "text/x-python",
   "name": "python",
   "nbconvert_exporter": "python",
   "pygments_lexer": "ipython3",
   "version": "3.6.13"
  },
  "varInspector": {
   "cols": {
    "lenName": 16,
    "lenType": 16,
    "lenVar": 40
   },
   "kernels_config": {
    "python": {
     "delete_cmd_postfix": "",
     "delete_cmd_prefix": "del ",
     "library": "var_list.py",
     "varRefreshCmd": "print(var_dic_list())"
    },
    "r": {
     "delete_cmd_postfix": ") ",
     "delete_cmd_prefix": "rm(",
     "library": "var_list.r",
     "varRefreshCmd": "cat(var_dic_list()) "
    }
   },
   "types_to_exclude": [
    "module",
    "function",
    "builtin_function_or_method",
    "instance",
    "_Feature"
   ],
   "window_display": false
  }
 },
 "nbformat": 4,
 "nbformat_minor": 5
}
