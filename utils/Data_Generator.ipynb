{
 "cells": [
  {
   "cell_type": "markdown",
   "id": "71f8a4f5",
   "metadata": {},
   "source": [
    "#### Add Frame Number"
   ]
  },
  {
   "cell_type": "code",
   "execution_count": null,
   "id": "71359827",
   "metadata": {},
   "outputs": [],
   "source": [
    "import os\n",
    "import cv2\n",
    "import sys\n",
    "# import matplotlib.pyplot as plt\n"
   ]
  },
  {
   "cell_type": "code",
   "execution_count": null,
   "id": "2b06af6d",
   "metadata": {
    "code_folding": [
     0
    ]
   },
   "outputs": [],
   "source": [
    "def add_frame_number(video_path):\n",
    "    cap = cv2.VideoCapture(video_path)\n",
    "    fps = cap.get(cv2.CAP_PROP_FPS)\n",
    "    width  = int(cap.get(cv2.CAP_PROP_FRAME_WIDTH))   # float `width`\n",
    "    height = int(cap.get(cv2.CAP_PROP_FRAME_HEIGHT))\n",
    "    \n",
    "    video_writer = cv2.VideoWriter(video_path.replace(\"Better\",\"output\"),\n",
    "                                    cv2.VideoWriter_fourcc(*'MP4V'), fps, (width,height))\n",
    "    c=0\n",
    "    font = cv2.FONT_HERSHEY_SIMPLEX\n",
    "    thickness=2\n",
    "    fontScale = 1\n",
    "    color = (255, 0, 0)\n",
    "    org = (960, 1070)\n",
    "    while(cap.isOpened()):\n",
    "        ret, frame = cap.read()\n",
    "        if ret == True:\n",
    "            frame = cv2.putText(frame,\"Frame Number:\"+ str(c), org, font, \n",
    "                   fontScale, color, thickness, cv2.LINE_AA)\n",
    "            video_writer.write(frame)\n",
    "            c+=1\n",
    "#             if c>10:\n",
    "#                 break\n",
    "        else: \n",
    "            break\n",
    "    cap.release()\n",
    "    video_writer.release()"
   ]
  },
  {
   "cell_type": "code",
   "execution_count": null,
   "id": "90dc84f3",
   "metadata": {},
   "outputs": [],
   "source": [
    "!mkdir output"
   ]
  },
  {
   "cell_type": "code",
   "execution_count": null,
   "id": "628400d5",
   "metadata": {},
   "outputs": [],
   "source": [
    "for folder in os.listdir(\"Videos/\"):\n",
    "    print(\"FOLDER \", folder)\n",
    "    for subfolder in os.listdir(\"Videos/\" + folder ):\n",
    "        for subsubfolder in os.listdir(\"Videos/\" + folder + \"/\" + subfolder ):\n",
    "            for file in os.listdir(\"Videos/\" + folder + \"/\" + subfolder +  \"/\" + subsubfolder ):\n",
    "                if \".mp4\" in file:\n",
    "                    print(folder ,\"====\", subfolder, \"===\", subsubfolder, \"===\", file)\n",
    "                    folder_path=os.path.join(\"output\", folder, subfolder, subsubfolder)\n",
    "                    os.makedirs(folder_path, exist_ok = True)\n",
    "                    video_path = os.path.join(\"Videos\", folder, subfolder, subsubfolder, file)\n",
    "#                     print(cv2.VideoCapture(video_path).isOpened())\n",
    "                    add_frame_number(video_path)\n",
    "        "
   ]
  },
  {
   "cell_type": "code",
   "execution_count": null,
   "id": "d396e4f4",
   "metadata": {
    "code_folding": [
     0
    ]
   },
   "outputs": [],
   "source": [
    "for file in os.listdir(\"Better/\"):\n",
    "    if \".mp4\" in file:\n",
    "#         print(folder ,\"====\", subfolder, \"===\", subsubfolder, \"===\", file)\n",
    "#         folder_path=os.path.join(\"output\", folder, subfolder, subsubfolder)\n",
    "#         os.makedirs(folder_path, exist_ok = True)\n",
    "        video_path = os.path.join(\"Better\", file)\n",
    "        add_frame_number(video_path)     "
   ]
  },
  {
   "cell_type": "code",
   "execution_count": null,
   "id": "daf0ead9",
   "metadata": {},
   "outputs": [],
   "source": [
    "for folder in os.listdir(\"Videos/\"):\n",
    "    print(\"FOLDER \", folder)\n",
    "    for subfolder in os.listdir(\"Videos/\" + folder ):\n",
    "        for subsubfolder in os.listdir(\"Videos/\" + folder + \"/\" + subfolder ):\n",
    "            for file in os.listdir(\"Videos/\" + folder + \"/\" + subfolder +  \"/\" + subsubfolder ):\n",
    "                if \".mp4\" in file:\n",
    "                    print(folder ,\"====\", subfolder, \"===\", subsubfolder, \"===\", file)\n",
    "                    folder_path=os.path.join(\"output\", folder, subfolder, subsubfolder)\n",
    "                    os.makedirs(folder_path, exist_ok = True)\n",
    "                    video_path = os.path.join(\"Videos\", folder, subfolder, subsubfolder, file)\n",
    "#                     print(cv2.VideoCapture(video_path).isOpened())\n",
    "                    add_frame_number(video_path)\n",
    "        "
   ]
  },
  {
   "cell_type": "code",
   "execution_count": null,
   "id": "4f527465",
   "metadata": {},
   "outputs": [],
   "source": []
  },
  {
   "cell_type": "markdown",
   "id": "f81608c9",
   "metadata": {},
   "source": [
    "#### Opencv Mask"
   ]
  },
  {
   "cell_type": "code",
   "execution_count": null,
   "id": "7bacc327",
   "metadata": {},
   "outputs": [],
   "source": [
    "%cd \"D:/Stupa/V3 Data/Videos/tablemasks\""
   ]
  },
  {
   "cell_type": "code",
   "execution_count": null,
   "id": "cd0fbf1d",
   "metadata": {},
   "outputs": [],
   "source": [
    "import os\n",
    "import sys\n",
    "import cv2\n",
    "import json\n",
    "import numpy as np\n",
    "import pandas as pd\n",
    "from shapely import geometry\n",
    "import matplotlib.pyplot as plt"
   ]
  },
  {
   "cell_type": "code",
   "execution_count": null,
   "id": "c8095761",
   "metadata": {},
   "outputs": [],
   "source": [
    "os.listdir(\".\")"
   ]
  },
  {
   "cell_type": "code",
   "execution_count": null,
   "id": "f917b9ee",
   "metadata": {},
   "outputs": [],
   "source": [
    "def get_coords(name):\n",
    "    f = open(name)\n",
    "    data = json.load(f)\n",
    "#     res = [(sub[1], sub[0]) for sub in data[\"coordinates\"]]\n",
    "    return np.array([data[\"coordinates\"]])"
   ]
  },
  {
   "cell_type": "code",
   "execution_count": null,
   "id": "ab03cc48",
   "metadata": {},
   "outputs": [],
   "source": [
    "names  = os.listdir(\".\")"
   ]
  },
  {
   "cell_type": "code",
   "execution_count": null,
   "id": "581e89ea",
   "metadata": {},
   "outputs": [],
   "source": [
    "for name in names:\n",
    "    points = get_coords(name)\n",
    "    mask   = np.zeros((1080, 1920))\n",
    "    res    = cv2.fillPoly(mask, pts=[points], color=(255, 0, 0))\n",
    "    \n",
    "    cv2.imwrite(name.split(\".\")[0]+\".jpg\", res)"
   ]
  },
  {
   "cell_type": "code",
   "execution_count": null,
   "id": "5c28026a",
   "metadata": {},
   "outputs": [],
   "source": [
    "plt.imshow(mask)"
   ]
  },
  {
   "cell_type": "code",
   "execution_count": null,
   "id": "47ce8306",
   "metadata": {},
   "outputs": [],
   "source": []
  },
  {
   "cell_type": "markdown",
   "id": "69a7daf8",
   "metadata": {},
   "source": [
    "## Tool"
   ]
  },
  {
   "cell_type": "code",
   "execution_count": null,
   "id": "1c505477",
   "metadata": {},
   "outputs": [],
   "source": [
    "%cd \"D:/Stupa/V3 Data\""
   ]
  },
  {
   "cell_type": "code",
   "execution_count": null,
   "id": "e8ace846",
   "metadata": {},
   "outputs": [],
   "source": [
    "import os\n",
    "import sys\n",
    "import cv2\n",
    "import numpy as np\n",
    "import pandas as pd\n",
    "import matplotlib.pyplot as plt"
   ]
  },
  {
   "cell_type": "code",
   "execution_count": null,
   "id": "cc860b27",
   "metadata": {
    "code_folding": [
     0,
     1,
     24,
     26,
     30,
     38,
     41,
     49,
     66,
     72,
     83,
     92,
     95,
     106
    ]
   },
   "outputs": [],
   "source": [
    "class Tool:\n",
    "    def __init__(self, SET_NUMBER=1, VIDEO_PATH=None):\n",
    "        self.clip_videos    = True\n",
    "        self.plot_pitches   = True\n",
    "        self.plot_shot      = True\n",
    "        self.plot_service   = True\n",
    "    \n",
    "        self.data           = pd.read_csv(\"Data Annotation timeline - Dang Qiu vs Yuan Licen .csv\")\n",
    "        self.data           = self.data.replace('?', np.NaN)\n",
    "        self.data           = self.data.replace('no', np.NaN)\n",
    "\n",
    "        self.SET_NUMBER = SET_NUMBER\n",
    "        self.data           = self.data[self.data[\"Set Number\"] == str(self.SET_NUMBER)]\n",
    "        VIDEO_PATH          = \"D:/Stupa/V3 Data/Videos/\"\n",
    "        VIDEO_PATH          = os.path.join(VIDEO_PATH , self.data.iloc[0][\"Location\"] , self.data.iloc[0][\"Match Name\"].strip())\n",
    "        \n",
    "        VIDEO_PATH      = os.path.join(VIDEO_PATH , \"Set\" + self.data.iloc[0][\"Set Number\"].strip() )\n",
    "        self.VIDEO_PATH = os.path.join(VIDEO_PATH ,  self.data.iloc[0][\"Match Name\"] + \"set\" +  self.data.iloc[0][\"Set Number\"].strip() + \".mp4\")\n",
    "        self.FRAME_NUMBER = 0\n",
    "        self.CAP          = cv2.VideoCapture(self.VIDEO_PATH)\n",
    "        self.output_video = cv2.VideoWriter('result.mp4',\n",
    "                                 cv2.VideoWriter_fourcc(*'MP4V'),\n",
    "                                 15,  (1920, 1080))\n",
    "        \n",
    "        if self.CAP.isOpened():\n",
    "            print(\"Video Opened\")\n",
    "        else:\n",
    "            print(\"issue in Video loading \", self.VIDEO_PATH)\n",
    "        \n",
    "        #clipping Data\n",
    "        if self.clip_videos == True:\n",
    "            self.data[\"Frame Number Start\"] = pd.to_numeric(self.data[\"Frame Number Start\"])\n",
    "            self.data[\"Frame Number End\"]   = pd.to_numeric(self.data[\"Frame Number End\"])\n",
    "            self.unskipped_frames           = self.data.loc[self.data['Angel change'].notnull(), [\"Frame Number Start\", 'Frame Number End']]\n",
    "            self.skip_index                 = 0\n",
    "            self.start_skip                 = list(self.unskipped_frames[\"Frame Number Start\"].values)\n",
    "            self.end_skip                   = list(self.unskipped_frames[\"Frame Number End\"].values)\n",
    "\n",
    "        if self.plot_pitches:\n",
    "            self.pitches_frames =  list(self.data.loc[self.data['Pitch'].notnull(), [\"Frame Number Start\"]][\"Frame Number Start\"].values)\n",
    "            \n",
    "        if self.plot_shot:\n",
    "            \n",
    "            self.shot_frames =  self.data.loc[self.data['ShotType'].notnull(), [\"ShotType\",\"Frame Number Start\",\"Frame Number End\"]]\n",
    "            self.shot_index       = 0\n",
    "            self.shot_list        = list(self.shot_frames[\"ShotType\"].values)\n",
    "            self.start_shot       = list(self.shot_frames[\"Frame Number Start\"].values)\n",
    "            self.end_shot         = list(self.shot_frames[\"Frame Number End\"].values)\n",
    "            \n",
    "        if self.plot_service:\n",
    "            self.service_frames  =   self.data.loc[self.data['Service'].notnull(), [\"Frame Number Start\",\"Frame Number End\"]]\n",
    "            self.start_service   =   list(self.service_frames[\"Frame Number Start\"].values)\n",
    "            self.end_service     =   list(self.service_frames[\"Frame Number End\"].values)\n",
    "            self.service_index   =   0\n",
    "        \n",
    "    def videos_clip(self):\n",
    "        if self.skip_index < len(self.start_skip):\n",
    "            if self.FRAME_NUMBER == self.start_skip[self.skip_index]:\n",
    "                    for _ in range(self.end_skip[self.skip_index] - self.start_skip[self.skip_index]):\n",
    "                        _, _ = self.CAP.read()\n",
    "                        self.FRAME_NUMBER += 1\n",
    "                    print(\"Frame Skipped \", \"**********************\" ,self.skip_index,self.end_skip[self.skip_index], self.start_skip[self.skip_index]  )\n",
    "                    self.skip_index += 1\n",
    "        else:\n",
    "            pass\n",
    "    \n",
    "    def pitches_plot(self):\n",
    "        status = False\n",
    "        if self.FRAME_NUMBER in self.pitches_frames:\n",
    "            status = True\n",
    "        self.frame = cv2.putText(self.frame,\"Pitch : \" + str(status), (1600, 140),  cv2.FONT_HERSHEY_SIMPLEX, 1, (255, 255, 255), 2, cv2.LINE_AA)\n",
    "        \n",
    "    def shot_plot(self):\n",
    "        \n",
    "        if self.shot_index < len(self.shot_list):\n",
    "            if self.FRAME_NUMBER >= self.start_shot[self.shot_index] and self.FRAME_NUMBER < self.end_shot[self.shot_index] :\n",
    "                SHOT = self.shot_list[self.shot_index]\n",
    "                self.frame = cv2.putText(self.frame,\"SHOT : \" + str(SHOT), (1600, 180),  cv2.FONT_HERSHEY_SIMPLEX, 1, (255, 255, 255), 2, cv2.LINE_AA)\n",
    "            elif self.FRAME_NUMBER == self.end_shot[self.shot_index]:\n",
    "                SHOT = self.shot_list[self.shot_index]\n",
    "                self.frame = cv2.putText(self.frame,\"SHOT : \" + str(SHOT), (1600, 180),  cv2.FONT_HERSHEY_SIMPLEX, 1, (255, 255, 255), 2, cv2.LINE_AA)\n",
    "                self.shot_index += 1\n",
    "\n",
    "    def service_plot(self):\n",
    "        \n",
    "        if self.service_index < len(self.service_frames):\n",
    "            if self.FRAME_NUMBER >= self.start_service[self.service_index] and self.FRAME_NUMBER < self.end_service[self.service_index] :\n",
    "                self.frame = cv2.putText(self.frame,\"Service\", (1600, 220),  cv2.FONT_HERSHEY_SIMPLEX, 1, (255, 255, 255), 2, cv2.LINE_AA)\n",
    "            elif self.FRAME_NUMBER == self.end_service[self.service_index]:\n",
    "                self.frame = cv2.putText(self.frame,\"Service\", (1600, 220),  cv2.FONT_HERSHEY_SIMPLEX, 1, (255, 255, 255), 2, cv2.LINE_AA)\n",
    "                self.service_index += 1\n",
    "        \n",
    "    def frame_count(self):\n",
    "        self.frame = cv2.putText(self.frame,\"Frame Number: \"+ str(self.FRAME_NUMBER), (1600, 100),  cv2.FONT_HERSHEY_SIMPLEX, 1, (255, 255, 255), 2, cv2.LINE_AA)\n",
    "        \n",
    "    def __call__(self):\n",
    "        self.frame_count()\n",
    "        if self.clip_videos:\n",
    "            self.videos_clip()      \n",
    "        if self.plot_pitches:\n",
    "            self.pitches_plot()\n",
    "        if self.plot_shot:\n",
    "            self.shot_plot()\n",
    "        if self.plot_service:\n",
    "            self.service_plot()\n",
    "    \n",
    "    def run(self):\n",
    "        while True:\n",
    "            ret, self.frame = self.CAP.read()\n",
    "            if ret == False:\n",
    "                break\n",
    "            self.FRAME_NUMBER += 1\n",
    "            self()\n",
    "            self.output_video.write(self.frame)\n",
    "        self.output_video.release()"
   ]
  },
  {
   "cell_type": "code",
   "execution_count": null,
   "id": "72a1ba07",
   "metadata": {},
   "outputs": [],
   "source": [
    "tool = Tool()"
   ]
  },
  {
   "cell_type": "code",
   "execution_count": null,
   "id": "263031b3",
   "metadata": {},
   "outputs": [],
   "source": [
    "tool.run()"
   ]
  },
  {
   "cell_type": "code",
   "execution_count": null,
   "id": "6d7f8012",
   "metadata": {},
   "outputs": [],
   "source": [
    "# import json\n",
    "# game = json.load(\"C:/Users/rlrah/Downloads/game.json\")\n",
    "# f = open(\"C:/Users/rlrah/Downloads/game.json\")\n",
    "# game = json.load(f)\n",
    "# game.keys()\n",
    "# f = open(\"C:/Users/rlrah/Downloads/point.json\")\n",
    "# point = json.load(f)\n",
    "# point.keys()"
   ]
  },
  {
   "cell_type": "code",
   "execution_count": null,
   "id": "5a89778e",
   "metadata": {},
   "outputs": [],
   "source": []
  },
  {
   "cell_type": "markdown",
   "id": "0058eb85",
   "metadata": {},
   "source": [
    "### Mask Data Generator"
   ]
  },
  {
   "cell_type": "code",
   "execution_count": 1,
   "id": "57d8bdb6",
   "metadata": {},
   "outputs": [
    {
     "name": "stdout",
     "output_type": "stream",
     "text": [
      "C:\\sTUPA\\new\\yolov7-segmentation\n"
     ]
    }
   ],
   "source": [
    "# %cd \"D:/Stupa/V3 Data\"\n",
    "%cd \"../new/yolov7-segmentation/\""
   ]
  },
  {
   "cell_type": "code",
   "execution_count": 2,
   "id": "a33ab5e9",
   "metadata": {},
   "outputs": [
    {
     "data": {
      "text/plain": [
       "'C:\\\\sTUPA\\\\new\\\\yolov7-segmentation'"
      ]
     },
     "execution_count": 2,
     "metadata": {},
     "output_type": "execute_result"
    }
   ],
   "source": [
    "pwd"
   ]
  },
  {
   "cell_type": "code",
   "execution_count": 3,
   "id": "002cb7ff",
   "metadata": {},
   "outputs": [],
   "source": [
    "import os\n",
    "import sys\n",
    "import cv2\n",
    "import numpy as np\n",
    "import pandas as pd\n",
    "import matplotlib.pyplot as plt"
   ]
  },
  {
   "cell_type": "code",
   "execution_count": null,
   "id": "1f2e990f",
   "metadata": {},
   "outputs": [],
   "source": []
  },
  {
   "cell_type": "code",
   "execution_count": 4,
   "id": "d52d23a1",
   "metadata": {},
   "outputs": [
    {
     "data": {
      "text/plain": [
       "['.git',\n",
       " '.github',\n",
       " 'data',\n",
       " 'export.py',\n",
       " 'football1.mp4',\n",
       " 'LICENSE',\n",
       " 'masks',\n",
       " 'models',\n",
       " 'README.md',\n",
       " 'requirements.txt',\n",
       " 'scripts',\n",
       " 'segment',\n",
       " 'train.py',\n",
       " 'utils',\n",
       " 'val.py',\n",
       " 'Yolov7 Segmentation.ipynb',\n",
       " 'yolov7-seg.pt',\n",
       " '__pycache__']"
      ]
     },
     "execution_count": 4,
     "metadata": {},
     "output_type": "execute_result"
    }
   ],
   "source": [
    "os.listdir(\".\")"
   ]
  },
  {
   "cell_type": "code",
   "execution_count": 5,
   "id": "599a41f4",
   "metadata": {},
   "outputs": [],
   "source": [
    "HUMAN_MASKS  = \"masks/\"\n",
    "OPENCV_MASKS = \"Videos/tablemasks/\""
   ]
  },
  {
   "cell_type": "code",
   "execution_count": 8,
   "id": "f517b0fb",
   "metadata": {},
   "outputs": [
    {
     "name": "stdout",
     "output_type": "stream",
     "text": [
      "1.npy\n"
     ]
    }
   ],
   "source": [
    "for _ in os.listdir(HUMAN_MASKS):\n",
    "    MASK = np.load(os.path.join(HUMAN_MASKS, _))\n",
    "    print(_)\n",
    "    break"
   ]
  },
  {
   "cell_type": "code",
   "execution_count": 9,
   "id": "e868a381",
   "metadata": {},
   "outputs": [
    {
     "data": {
      "text/plain": [
       "<matplotlib.image.AxesImage at 0x177f8824cc8>"
      ]
     },
     "execution_count": 9,
     "metadata": {},
     "output_type": "execute_result"
    },
    {
     "data": {
      "image/png": "[encoded data removed]",
      "text/plain": [
       "<Figure size 432x288 with 1 Axes>"
      ]
     },
     "metadata": {
      "needs_background": "light"
     },
     "output_type": "display_data"
    }
   ],
   "source": [
    "plt.imshow(MASK)"
   ]
  },
  {
   "cell_type": "code",
   "execution_count": 10,
   "id": "54bc4252",
   "metadata": {},
   "outputs": [
    {
     "data": {
      "text/plain": [
       "(384, 640)"
      ]
     },
     "execution_count": 10,
     "metadata": {},
     "output_type": "execute_result"
    }
   ],
   "source": [
    "MASK.shape"
   ]
  },
  {
   "cell_type": "code",
   "execution_count": null,
   "id": "fa7fb8d9",
   "metadata": {},
   "outputs": [],
   "source": []
  }
 ],
 "metadata": {
  "kernelspec": {
   "display_name": "Python 3 (ipykernel)",
   "language": "python",
   "name": "python3"
  },
  "language_info": {
   "codemirror_mode": {
    "name": "ipython",
    "version": 3
   },
   "file_extension": ".py",
   "mimetype": "text/x-python",
   "name": "python",
   "nbconvert_exporter": "python",
   "pygments_lexer": "ipython3",
   "version": "3.7.13"
  }
 },
 "nbformat": 4,
 "nbformat_minor": 5
}
